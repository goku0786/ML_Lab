{
 "cells": [
  {
   "cell_type": "code",
   "execution_count": 1,
   "metadata": {},
   "outputs": [
    {
     "name": "stdout",
     "output_type": "stream",
     "text": [
      "Predictions: [74852.94117647 90073.52941176]\n",
      "Mean Squared Error: 24645869.377162665\n"
     ]
    }
   ],
   "source": [
    "import pandas as pd \n",
    "from sklearn.model_selection import train_test_split \n",
    "from sklearn.linear_model import LinearRegression \n",
    "from sklearn.metrics import mean_squared_error \n",
    "\n",
    "# Sample data \n",
    "data = pd.DataFrame({ \n",
    "'Size': [650, 800, 1200, 1500, 1700, 2000], \n",
    "'Price': [70000, 85000, 130000, 160000, 185000, 210000] \n",
    "}) \n",
    "\n",
    "# Features and target variable \n",
    "X = data[['Size']] \n",
    "y = data['Price'] \n",
    "\n",
    "# Train-test split \n",
    "X_train, X_test, y_train, y_test = train_test_split(X, y, test_size=0.2, random_state=42) \n",
    "\n",
    "# Train the model \n",
    "model = LinearRegression() \n",
    "model.fit(X_train, y_train)\n",
    " \n",
    "# Make predictions \n",
    "y_pred = model.predict(X_test) \n",
    "mse = mean_squared_error(y_test, y_pred) \n",
    "print(\"Predictions:\", y_pred) \n",
    "print(\"Mean Squared Error:\", mse)"
   ]
  }
 ],
 "metadata": {
  "kernelspec": {
   "display_name": "Python 3",
   "language": "python",
   "name": "python3"
  },
  "language_info": {
   "codemirror_mode": {
    "name": "ipython",
    "version": 3
   },
   "file_extension": ".py",
   "mimetype": "text/x-python",
   "name": "python",
   "nbconvert_exporter": "python",
   "pygments_lexer": "ipython3",
   "version": "3.12.0"
  }
 },
 "nbformat": 4,
 "nbformat_minor": 2
}
