{
 "cells": [
  {
   "cell_type": "code",
   "execution_count": 1,
   "metadata": {},
   "outputs": [
    {
     "name": "stdout",
     "output_type": "stream",
     "text": [
      "Accuracy: 0.9777777777777777\n",
      "\n",
      "Classification Report:\n",
      "               precision    recall  f1-score   support\n",
      "\n",
      "      setosa       1.00      1.00      1.00        19\n",
      "  versicolor       1.00      0.92      0.96        13\n",
      "   virginica       0.93      1.00      0.96        13\n",
      "\n",
      "    accuracy                           0.98        45\n",
      "   macro avg       0.98      0.97      0.97        45\n",
      "weighted avg       0.98      0.98      0.98        45\n",
      "\n",
      "\n",
      "Confusion Matrix:\n",
      " [[19  0  0]\n",
      " [ 0 12  1]\n",
      " [ 0  0 13]]\n"
     ]
    }
   ],
   "source": [
    "# Import necessary libraries \n",
    "from sklearn.datasets import load_iris \n",
    "from sklearn.model_selection import train_test_split \n",
    "from sklearn.naive_bayes import GaussianNB \n",
    "from sklearn.metrics import accuracy_score, classification_report, confusion_matrix \n",
    "\n",
    "# Load the Iris dataset \n",
    "iris = load_iris() \n",
    "X = iris.data  # Features: sepal length, sepal width, petal length, petal width \n",
    "y = iris.target  # Target: Species (setosa, versicolor, virginica) \n",
    "# Split the dataset into training and testing sets \n",
    "X_train, X_test, y_train, y_test = train_test_split(X, y, test_size=0.3, random_state=42) \n",
    "\n",
    "# Initialize and train the Naive Bayes model \n",
    "nb_model = GaussianNB() \n",
    "nb_model.fit(X_train, y_train) \n",
    "\n",
    "# Make predictions on the test set \n",
    "y_pred = nb_model.predict(X_test) \n",
    "\n",
    "# Calculate accuracy \n",
    "accuracy = accuracy_score(y_test, y_pred) \n",
    "\n",
    "# Display the results \n",
    "print(\"Accuracy:\", accuracy) \n",
    "print(\"\\nClassification Report:\\n\", classification_report(y_test, y_pred, \n",
    "target_names=iris.target_names)) \n",
    "print(\"\\nConfusion Matrix:\\n\", confusion_matrix(y_test, y_pred)) "
   ]
  }
 ],
 "metadata": {
  "kernelspec": {
   "display_name": "Python 3",
   "language": "python",
   "name": "python3"
  },
  "language_info": {
   "codemirror_mode": {
    "name": "ipython",
    "version": 3
   },
   "file_extension": ".py",
   "mimetype": "text/x-python",
   "name": "python",
   "nbconvert_exporter": "python",
   "pygments_lexer": "ipython3",
   "version": "3.12.0"
  }
 },
 "nbformat": 4,
 "nbformat_minor": 2
}
